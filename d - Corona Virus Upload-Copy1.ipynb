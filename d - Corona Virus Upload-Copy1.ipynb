{
 "cells": [
  {
   "cell_type": "markdown",
   "metadata": {},
   "source": [
    "# Import Modules"
   ]
  },
  {
   "cell_type": "code",
   "execution_count": null,
   "metadata": {},
   "outputs": [],
   "source": [
    "import matplotlib as mpl \n",
    "mpl.use('TkAgg') \n",
    "%matplotlib inline \n",
    "import matplotlib.pyplot as plt \n",
    "import numpy as np\n",
    "import pandas as pd\n",
    "\n",
    "# URL for death dating\n",
    "deaths_csv = 'https://bit.ly/2z2XdkQ'\n",
    "\n",
    "# Import deaths CV\n",
    "df = pd.read_csv(deaths_csv)\n",
    "\n",
    "df.head(3)"
   ]
  },
  {
   "cell_type": "markdown",
   "metadata": {},
   "source": [
    "# Clean Data and Calculate Metrics"
   ]
  },
  {
   "cell_type": "code",
   "execution_count": null,
   "metadata": {},
   "outputs": [],
   "source": [
    "# Drop the meta-data row\n",
    "df.drop(0, inplace = True)\n",
    "\n",
    "# Convert numbers to floats\n",
    "df['Value'] = pd.to_numeric(df['Value'])"
   ]
  },
  {
   "cell_type": "markdown",
   "metadata": {},
   "source": [
    "We want to plot a line for each country, each day. However, some of the data is broken down into provinces within countries."
   ]
  },
  {
   "cell_type": "code",
   "execution_count": null,
   "metadata": {},
   "outputs": [],
   "source": [
    "df[(df['Country/Region'] == 'China') & (df['Date'] == '2020-01-22')].sample(3)"
   ]
  },
  {
   "cell_type": "markdown",
   "metadata": {},
   "source": [
    "To deal with this, we peform a groupby calculation over the 'Country/Region' and 'Date' columns."
   ]
  },
  {
   "cell_type": "code",
   "execution_count": null,
   "metadata": {},
   "outputs": [],
   "source": [
    "df = df.groupby(['Country/Region','Date']).sum()['Value'].reset_index()\n",
    "df.sample(3)"
   ]
  },
  {
   "cell_type": "code",
   "execution_count": null,
   "metadata": {},
   "outputs": [],
   "source": [
    "# Calculating Daily Increase\n",
    "\n",
    "countries = df['Country/Region'].unique() # Get a total list of countries\n",
    "chart_data = pd.DataFrame() # Create an empty dataframe to store our calculations\n",
    "\n",
    "for c in countries:\n",
    "\n",
    "  #Create a temp dataframe with just the country we are currently working on\n",
    "  temp = df[df['Country/Region'] == c]\n",
    "  \n",
    "  # Get rid of all records for country c with zero deaths (ie. Take only data from the first day of deaths).\n",
    "  temp = temp[temp.Value >=1].reset_index()\n",
    "  \n",
    "  # Since the 'value' column records total deaths. We need to iterate through each date and \n",
    "  # calculate the number of deaths on that particular day\n",
    "  for key, row in temp.iterrows():\n",
    "    \n",
    "    if key == 0:\n",
    "      # If working on the first record, \n",
    "      temp.loc[key,'daily_increase'] = temp.loc[key,'Value']\n",
    "      temp.loc[key,'days_past_since_first_death'] = int(0)\n",
    "    else:\n",
    "      # For every subsequent record, compare the total deaths ('Value') with the total deaths on the \n",
    "      # previous data to calculate the deaths on that particular day.\n",
    "      temp.loc[key,'daily_increase'] = temp.loc[key,'Value'] - temp.loc[key-1, 'Value']\n",
    "      temp.loc[key,'days_past_since_first_death'] = int(temp.loc[key-1,'days_past_since_first_death'] + 1)\n",
    "      \n",
    "  chart_data = chart_data.append(temp)"
   ]
  },
  {
   "cell_type": "markdown",
   "metadata": {},
   "source": [
    "# Plotting the Data"
   ]
  },
  {
   "cell_type": "code",
   "execution_count": null,
   "metadata": {},
   "outputs": [],
   "source": [
    "# We set up some parameters\n",
    "\n",
    "no_total_countries = 35 # Total number of countries to plot\n",
    "no_highlighted_countries = 10 # Total number of countries to highlight  \n",
    "annotate = True\n",
    "\n",
    "# We work out the top 35 countries in terms of deaths\n",
    "countries_to_plot = chart_data.groupby(['Country/Region']).max().reset_index() # Calculate maximum daily deahts by country\n",
    "countries_to_plot = countries_to_plot.sort_values('daily_increase', ascending = False) # Sort table by total deaths\n",
    "countries_to_plot = list(countries_to_plot.head(no_total_countries)['Country/Region']) # Create a list of countries with the most deaths. These will be plotted"
   ]
  },
  {
   "cell_type": "markdown",
   "metadata": {},
   "source": [
    "### Function to Plot Lines\n",
    "The function below first calculates a moving averages to smoothen the line. It then also calculate a Cublic Spline\n",
    "function to remove all jagged edges and create a nicer curvier line."
   ]
  },
  {
   "cell_type": "code",
   "execution_count": null,
   "metadata": {},
   "outputs": [],
   "source": [
    "def plot_country(c, color, linewidth, annotate = False, add_border = False):\n",
    "\n",
    "  # Create a temporary dataframe called cd and set x, y columns\n",
    "  cd = chart_data[chart_data['Country/Region'] == c]\n",
    "  y = cd['daily_increase']\n",
    "  x = cd['days_past_since_first_death']\n",
    "\n",
    "  # Calculate moving averages to make a smoother graph\n",
    "  mov_y = cd['daily_increase'].rolling(window = 10).mean() # Get rolling y vals\n",
    "  mov_y = mov_y.fillna(0)\n",
    "\n",
    "  # Calculate Cublic Spline curve to remove jagged edges and create an even smoother graph\n",
    "  x_smooth = np.linspace(x.min(), x.max(), 500) # Split x_axis up into 500 points\n",
    "  spl = CubicSpline(x, mov_y) # Generate spline function\n",
    "  y_smooth = spl(x_smooth) # Calculate new smooth y points\n",
    "  \n",
    "  # We use this to plot a slighty larger white line underneath our coloured line. \n",
    "  # This has the effect of a line edge\n",
    "  if add_border == True:\n",
    "    ax.plot(x_smooth, y_smooth,\n",
    "        color = 'white', \n",
    "        linewidth = linewidth + 2,\n",
    "        label = i)\n",
    "  \n",
    "  # Now plot the actual line\n",
    "  ax.plot(x_smooth, y_smooth,\n",
    "          color = color, \n",
    "          linewidth = linewidth,\n",
    "          label = i)\n",
    "\n",
    "  # We append the name location and name of the country to a list of lists which we will \n",
    "  # plot in the next sections\n",
    "  if annotate == True:\n",
    "    annotate_list.append([x_smooth[-1], y_smooth[-1], i])"
   ]
  },
  {
   "cell_type": "markdown",
   "metadata": {},
   "source": [
    "### Plotting"
   ]
  },
  {
   "cell_type": "code",
   "execution_count": null,
   "metadata": {},
   "outputs": [],
   "source": [
    "from scipy.interpolate import CubicSpline\n",
    "from random import random\n",
    "from adjustText import adjust_text\n",
    "\n",
    "fig, ax = plt.subplots(figsize=[20,12])\n",
    "\n",
    "annotate_list = []\n",
    "count = 0 # Counter required for plotting colourmaps\n",
    "\n",
    "# ===================== Plot =====================\n",
    "\n",
    "# Plot grey lines\n",
    "for i in countries_to_plot[no_highlighted_countries:]: \n",
    "  plot_country(i, 'darkgrey', 2)\n",
    "\n",
    "# Plot highlighted countries\n",
    "for i in countries_to_plot[:no_highlighted_countries]:\n",
    "  colour = plt.cm.Spectral(count/no_highlighted_countries)\n",
    "  plot_country(i, colour, 3, annotate = True, add_border = True)\n",
    "  count = count + 1\n",
    "\n",
    "#==================== AXIS AND STLYE =====================\n",
    "  \n",
    "ax.yaxis.grid(linestyle = '--')\n",
    "\n",
    "ax.tick_params(axis='both', which='major', labelsize=15, pad=2)\n",
    "ax.tick_params(axis='x', which='major', labelsize=15, pad=2)\n",
    "\n",
    "ax.set_ylabel('Deaths Per Day',\n",
    "              fontsize = 15,\n",
    "              color = 'white')\n",
    "\n",
    "ax.set_xlabel('Days Since First Death',\n",
    "              fontsize = 15, \n",
    "              color = 'white',\n",
    "              labelpad = 15)\n",
    "\n",
    "plt.yticks(color = 'white')\n",
    "plt.xticks(color = 'white', rotation = 0)\n",
    "ax.set_frame_on(False)\n",
    "\n",
    "# ===================== Annotate with AdjustText =====================\n",
    "\n",
    "texts = []\n",
    "for i in annotate_list:\n",
    "  texts.append(ax.text(i[0], i[1], i[2],\n",
    "             color = 'white', size = 17, fontfamily = 'DIN Alternate', fontstyle = 'oblique'))\n",
    "\n",
    "#adjust_text(texts, ha = 'left', text_from_points = True, expand_text = (0,0.1))"
   ]
  }
 ],
 "metadata": {
  "kernelspec": {
   "display_name": "Python [conda env:tboc] *",
   "language": "python",
   "name": "conda-env-tboc-py"
  },
  "language_info": {
   "codemirror_mode": {
    "name": "ipython",
    "version": 3
   },
   "file_extension": ".py",
   "mimetype": "text/x-python",
   "name": "python",
   "nbconvert_exporter": "python",
   "pygments_lexer": "ipython3",
   "version": "3.7.3"
  }
 },
 "nbformat": 4,
 "nbformat_minor": 4
}
