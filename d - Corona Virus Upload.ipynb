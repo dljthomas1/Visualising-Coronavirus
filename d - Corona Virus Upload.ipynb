{
 "cells": [
  {
   "cell_type": "markdown",
   "metadata": {},
   "source": [
    "# Import Modules"
   ]
  },
  {
   "cell_type": "code",
   "execution_count": 12,
   "metadata": {},
   "outputs": [
    {
     "data": {
      "text/html": [
       "<div>\n",
       "<style scoped>\n",
       "    .dataframe tbody tr th:only-of-type {\n",
       "        vertical-align: middle;\n",
       "    }\n",
       "\n",
       "    .dataframe tbody tr th {\n",
       "        vertical-align: top;\n",
       "    }\n",
       "\n",
       "    .dataframe thead th {\n",
       "        text-align: right;\n",
       "    }\n",
       "</style>\n",
       "<table border=\"1\" class=\"dataframe\">\n",
       "  <thead>\n",
       "    <tr style=\"text-align: right;\">\n",
       "      <th></th>\n",
       "      <th>Province/State</th>\n",
       "      <th>Country/Region</th>\n",
       "      <th>Lat</th>\n",
       "      <th>Long</th>\n",
       "      <th>Date</th>\n",
       "      <th>Value</th>\n",
       "      <th>ISO 3166-1 Alpha 3-Codes</th>\n",
       "      <th>Region Code</th>\n",
       "      <th>Sub-region Code</th>\n",
       "      <th>Intermediate Region Code</th>\n",
       "    </tr>\n",
       "  </thead>\n",
       "  <tbody>\n",
       "    <tr>\n",
       "      <th>0</th>\n",
       "      <td>#adm1+name</td>\n",
       "      <td>#country+name</td>\n",
       "      <td>#geo+lat</td>\n",
       "      <td>#geo+lon</td>\n",
       "      <td>#date</td>\n",
       "      <td>#affected+infected+value+num</td>\n",
       "      <td>#country+code</td>\n",
       "      <td>#region+main+code</td>\n",
       "      <td>#region+sub+code</td>\n",
       "      <td>#region+intermediate+code</td>\n",
       "    </tr>\n",
       "    <tr>\n",
       "      <th>1</th>\n",
       "      <td>NaN</td>\n",
       "      <td>Afghanistan</td>\n",
       "      <td>33.0</td>\n",
       "      <td>65.0</td>\n",
       "      <td>2020-05-02</td>\n",
       "      <td>72</td>\n",
       "      <td>AFG</td>\n",
       "      <td>142</td>\n",
       "      <td>34</td>\n",
       "      <td>NaN</td>\n",
       "    </tr>\n",
       "    <tr>\n",
       "      <th>2</th>\n",
       "      <td>NaN</td>\n",
       "      <td>Afghanistan</td>\n",
       "      <td>33.0</td>\n",
       "      <td>65.0</td>\n",
       "      <td>2020-05-01</td>\n",
       "      <td>68</td>\n",
       "      <td>AFG</td>\n",
       "      <td>142</td>\n",
       "      <td>34</td>\n",
       "      <td>NaN</td>\n",
       "    </tr>\n",
       "  </tbody>\n",
       "</table>\n",
       "</div>"
      ],
      "text/plain": [
       "  Province/State Country/Region       Lat      Long        Date  \\\n",
       "0     #adm1+name  #country+name  #geo+lat  #geo+lon       #date   \n",
       "1            NaN    Afghanistan      33.0      65.0  2020-05-02   \n",
       "2            NaN    Afghanistan      33.0      65.0  2020-05-01   \n",
       "\n",
       "                          Value ISO 3166-1 Alpha 3-Codes        Region Code  \\\n",
       "0  #affected+infected+value+num            #country+code  #region+main+code   \n",
       "1                            72                      AFG                142   \n",
       "2                            68                      AFG                142   \n",
       "\n",
       "    Sub-region Code   Intermediate Region Code  \n",
       "0  #region+sub+code  #region+intermediate+code  \n",
       "1                34                        NaN  \n",
       "2                34                        NaN  "
      ]
     },
     "execution_count": 12,
     "metadata": {},
     "output_type": "execute_result"
    }
   ],
   "source": [
    "import matplotlib as mpl \n",
    "mpl.use('TkAgg') \n",
    "%matplotlib inline \n",
    "import matplotlib.pyplot as plt \n",
    "import numpy as np\n",
    "import pandas as pd\n",
    "\n",
    "# URL for death dating\n",
    "deaths_url = 'https://data.humdata.org/hxlproxy/data/download/time_series_covid19_deaths_global_narrow.csv?dest=data_edit&filter01=merge&merge-url01=https%3A%2F%2Fdocs.google.com%2Fspreadsheets%2Fd%2Fe%2F2PACX-1vTglKQRXpkKSErDiWG6ycqEth32MY0reMuVGhaslImLjfuLU0EUgyyu2e-3vKDArjqGX7dXEBV8FJ4f%2Fpub%3Fgid%3D1326629740%26single%3Dtrue%26output%3Dcsv&merge-keys01=%23country%2Bname&merge-tags01=%23country%2Bcode%2C%23region%2Bmain%2Bcode%2C%23region%2Bsub%2Bcode%2C%23region%2Bintermediate%2Bcode&filter02=merge&merge-url02=https%3A%2F%2Fdocs.google.com%2Fspreadsheets%2Fd%2Fe%2F2PACX-1vTglKQRXpkKSErDiWG6ycqEth32MY0reMuVGhaslImLjfuLU0EUgyyu2e-3vKDArjqGX7dXEBV8FJ4f%2Fpub%3Fgid%3D398158223%26single%3Dtrue%26output%3Dcsv&merge-keys02=%23adm1%2Bname&merge-tags02=%23country%2Bcode%2C%23region%2Bmain%2Bcode%2C%23region%2Bsub%2Bcode%2C%23region%2Bintermediate%2Bcode&merge-replace02=on&merge-overwrite02=on&filter03=explode&explode-header-att03=date&explode-value-att03=value&filter04=rename&rename-oldtag04=%23affected%2Bdate&rename-newtag04=%23date&rename-header04=Date&filter05=rename&rename-oldtag05=%23affected%2Bvalue&rename-newtag05=%23affected%2Binfected%2Bvalue%2Bnum&rename-header05=Value&filter06=clean&clean-date-tags06=%23date&filter07=sort&sort-tags07=%23date&sort-reverse07=on&filter08=sort&sort-tags08=%23country%2Bname%2C%23adm1%2Bname&tagger-match-all=on&tagger-default-tag=%23affected%2Blabel&tagger-01-header=province%2Fstate&tagger-01-tag=%23adm1%2Bname&tagger-02-header=country%2Fregion&tagger-02-tag=%23country%2Bname&tagger-03-header=lat&tagger-03-tag=%23geo%2Blat&tagger-04-header=long&tagger-04-tag=%23geo%2Blon&header-row=1&url=https%3A%2F%2Fraw.githubusercontent.com%2FCSSEGISandData%2FCOVID-19%2Fmaster%2Fcsse_covid_19_data%2Fcsse_covid_19_time_series%2Ftime_series_covid19_deaths_global.csv'\n",
    "\n",
    "# Import deaths CV\n",
    "df = pd.read_csv(deaths_url)\n",
    "\n",
    "df.head(3)"
   ]
  },
  {
   "cell_type": "markdown",
   "metadata": {},
   "source": [
    "# Clean Data and Calculate Metrics"
   ]
  },
  {
   "cell_type": "code",
   "execution_count": 13,
   "metadata": {},
   "outputs": [],
   "source": [
    "# Drop the meta-data row\n",
    "df.drop(0, inplace = True)\n",
    "\n",
    "# Convert numbers to floats\n",
    "df['Value'] = pd.to_numeric(df['Value'])"
   ]
  },
  {
   "cell_type": "markdown",
   "metadata": {},
   "source": [
    "We want to plot a line for each country, each day. However, some of the data is broken down into provinces within countries."
   ]
  },
  {
   "cell_type": "code",
   "execution_count": 14,
   "metadata": {},
   "outputs": [
    {
     "data": {
      "text/html": [
       "<div>\n",
       "<style scoped>\n",
       "    .dataframe tbody tr th:only-of-type {\n",
       "        vertical-align: middle;\n",
       "    }\n",
       "\n",
       "    .dataframe tbody tr th {\n",
       "        vertical-align: top;\n",
       "    }\n",
       "\n",
       "    .dataframe thead th {\n",
       "        text-align: right;\n",
       "    }\n",
       "</style>\n",
       "<table border=\"1\" class=\"dataframe\">\n",
       "  <thead>\n",
       "    <tr style=\"text-align: right;\">\n",
       "      <th></th>\n",
       "      <th>Province/State</th>\n",
       "      <th>Country/Region</th>\n",
       "      <th>Lat</th>\n",
       "      <th>Long</th>\n",
       "      <th>Date</th>\n",
       "      <th>Value</th>\n",
       "      <th>ISO 3166-1 Alpha 3-Codes</th>\n",
       "      <th>Region Code</th>\n",
       "      <th>Sub-region Code</th>\n",
       "      <th>Intermediate Region Code</th>\n",
       "    </tr>\n",
       "  </thead>\n",
       "  <tbody>\n",
       "    <tr>\n",
       "      <th>8568</th>\n",
       "      <td>Shanxi</td>\n",
       "      <td>China</td>\n",
       "      <td>37.5777</td>\n",
       "      <td>112.2922</td>\n",
       "      <td>2020-01-22</td>\n",
       "      <td>0</td>\n",
       "      <td>CHN</td>\n",
       "      <td>142</td>\n",
       "      <td>30</td>\n",
       "      <td>NaN</td>\n",
       "    </tr>\n",
       "    <tr>\n",
       "      <th>7446</th>\n",
       "      <td>Inner Mongolia</td>\n",
       "      <td>China</td>\n",
       "      <td>44.0935</td>\n",
       "      <td>113.9448</td>\n",
       "      <td>2020-01-22</td>\n",
       "      <td>0</td>\n",
       "      <td>CHN</td>\n",
       "      <td>142</td>\n",
       "      <td>30</td>\n",
       "      <td>NaN</td>\n",
       "    </tr>\n",
       "    <tr>\n",
       "      <th>8262</th>\n",
       "      <td>Shaanxi</td>\n",
       "      <td>China</td>\n",
       "      <td>35.1917</td>\n",
       "      <td>108.8701</td>\n",
       "      <td>2020-01-22</td>\n",
       "      <td>0</td>\n",
       "      <td>CHN</td>\n",
       "      <td>142</td>\n",
       "      <td>30</td>\n",
       "      <td>NaN</td>\n",
       "    </tr>\n",
       "  </tbody>\n",
       "</table>\n",
       "</div>"
      ],
      "text/plain": [
       "      Province/State Country/Region      Lat      Long        Date  Value  \\\n",
       "8568          Shanxi          China  37.5777  112.2922  2020-01-22      0   \n",
       "7446  Inner Mongolia          China  44.0935  113.9448  2020-01-22      0   \n",
       "8262         Shaanxi          China  35.1917  108.8701  2020-01-22      0   \n",
       "\n",
       "     ISO 3166-1 Alpha 3-Codes Region Code Sub-region Code  \\\n",
       "8568                      CHN         142              30   \n",
       "7446                      CHN         142              30   \n",
       "8262                      CHN         142              30   \n",
       "\n",
       "     Intermediate Region Code  \n",
       "8568                      NaN  \n",
       "7446                      NaN  \n",
       "8262                      NaN  "
      ]
     },
     "execution_count": 14,
     "metadata": {},
     "output_type": "execute_result"
    }
   ],
   "source": [
    "df[(df['Country/Region'] == 'China') & (df['Date'] == '2020-01-22')].sample(3)"
   ]
  },
  {
   "cell_type": "markdown",
   "metadata": {},
   "source": [
    "To deal with this, we peform a groupby calculation over the 'Country/Region' and 'Date' columns."
   ]
  },
  {
   "cell_type": "code",
   "execution_count": 15,
   "metadata": {},
   "outputs": [
    {
     "data": {
      "text/html": [
       "<div>\n",
       "<style scoped>\n",
       "    .dataframe tbody tr th:only-of-type {\n",
       "        vertical-align: middle;\n",
       "    }\n",
       "\n",
       "    .dataframe tbody tr th {\n",
       "        vertical-align: top;\n",
       "    }\n",
       "\n",
       "    .dataframe thead th {\n",
       "        text-align: right;\n",
       "    }\n",
       "</style>\n",
       "<table border=\"1\" class=\"dataframe\">\n",
       "  <thead>\n",
       "    <tr style=\"text-align: right;\">\n",
       "      <th></th>\n",
       "      <th>Country/Region</th>\n",
       "      <th>Date</th>\n",
       "      <th>Value</th>\n",
       "    </tr>\n",
       "  </thead>\n",
       "  <tbody>\n",
       "    <tr>\n",
       "      <th>6979</th>\n",
       "      <td>Greece</td>\n",
       "      <td>2020-03-05</td>\n",
       "      <td>0</td>\n",
       "    </tr>\n",
       "    <tr>\n",
       "      <th>13105</th>\n",
       "      <td>Oman</td>\n",
       "      <td>2020-03-11</td>\n",
       "      <td>0</td>\n",
       "    </tr>\n",
       "    <tr>\n",
       "      <th>3560</th>\n",
       "      <td>Chad</td>\n",
       "      <td>2020-04-23</td>\n",
       "      <td>0</td>\n",
       "    </tr>\n",
       "  </tbody>\n",
       "</table>\n",
       "</div>"
      ],
      "text/plain": [
       "      Country/Region        Date  Value\n",
       "6979          Greece  2020-03-05      0\n",
       "13105           Oman  2020-03-11      0\n",
       "3560            Chad  2020-04-23      0"
      ]
     },
     "execution_count": 15,
     "metadata": {},
     "output_type": "execute_result"
    }
   ],
   "source": [
    "df = df.groupby(['Country/Region','Date']).sum()['Value'].reset_index()\n",
    "df.sample(3)"
   ]
  },
  {
   "cell_type": "code",
   "execution_count": 16,
   "metadata": {},
   "outputs": [
    {
     "name": "stderr",
     "output_type": "stream",
     "text": [
      "/Users/danielthomas/anaconda3/envs/tboc/lib/python3.7/site-packages/pandas/core/frame.py:6692: FutureWarning: Sorting because non-concatenation axis is not aligned. A future version\n",
      "of pandas will change to not sort by default.\n",
      "\n",
      "To accept the future behavior, pass 'sort=False'.\n",
      "\n",
      "To retain the current behavior and silence the warning, pass 'sort=True'.\n",
      "\n",
      "  sort=sort)\n"
     ]
    }
   ],
   "source": [
    "# Calculating Daily Increase\n",
    "\n",
    "countries = df['Country/Region'].unique() # Get a total list of countries\n",
    "chart_data = pd.DataFrame() # Create an empty dataframe to store our calculations\n",
    "\n",
    "for c in countries:\n",
    "\n",
    "  #Create a temp dataframe with just the country we are currently working on\n",
    "  temp = df[df['Country/Region'] == c]\n",
    "  \n",
    "  # Get rid of all records for country c with zero deaths (ie. Take only data from the first day of deaths).\n",
    "  temp = temp[temp.Value >=1].reset_index()\n",
    "  \n",
    "  # Since the 'value' column records total deaths. We need to iterate through each date and \n",
    "  # calculate the number of deaths on that particular day\n",
    "  for key, row in temp.iterrows():\n",
    "    \n",
    "    if key == 0:\n",
    "      # If working on the first record, \n",
    "      temp.loc[key,'daily_increase'] = temp.loc[key,'Value']\n",
    "      temp.loc[key,'days_past_since_first_death'] = int(0)\n",
    "    else:\n",
    "      # For every subsequent record, compare the total deaths ('Value') with the total deaths on the \n",
    "      # previous data to calculate the deaths on that particular day.\n",
    "      temp.loc[key,'daily_increase'] = temp.loc[key,'Value'] - temp.loc[key-1, 'Value']\n",
    "      temp.loc[key,'days_past_since_first_death'] = int(temp.loc[key-1,'days_past_since_first_death'] + 1)\n",
    "      \n",
    "  chart_data = chart_data.append(temp)"
   ]
  },
  {
   "cell_type": "markdown",
   "metadata": {},
   "source": [
    "# Plotting the Data"
   ]
  },
  {
   "cell_type": "code",
   "execution_count": 17,
   "metadata": {},
   "outputs": [],
   "source": [
    "# We set up some parameters\n",
    "\n",
    "no_total_countries = 35 # Total number of countries to plot\n",
    "no_highlighted_countries = 10 # Total number of countries to highlight  \n",
    "annotate = True\n",
    "\n",
    "# We work out the top 35 countries in terms of deaths\n",
    "countries_to_plot = chart_data.groupby(['Country/Region']).max().reset_index() # Calculate maximum daily deahts by country\n",
    "countries_to_plot = countries_to_plot.sort_values('daily_increase', ascending = False) # Sort table by total deaths\n",
    "countries_to_plot = list(countries_to_plot.head(no_total_countries)['Country/Region']) # Create a list of countries with the most deaths. These will be plotted"
   ]
  },
  {
   "cell_type": "markdown",
   "metadata": {},
   "source": [
    "### Function to Plot Lines\n",
    "The function below first calculates a moving averages to smoothen the line. It then also calculate a Cublic Spline\n",
    "function to remove all jagged edges and create a nicer curvier line."
   ]
  },
  {
   "cell_type": "code",
   "execution_count": 18,
   "metadata": {},
   "outputs": [],
   "source": [
    "def plot_country(c, color, linewidth, annotate = False, add_border = False):\n",
    "\n",
    "  # Create a temporary dataframe called cd and set x, y columns\n",
    "  cd = chart_data[chart_data['Country/Region'] == c]\n",
    "  y = cd['daily_increase']\n",
    "  x = cd['days_past_since_first_death']\n",
    "\n",
    "  # Calculate moving averages to make a smoother graph\n",
    "  mov_y = cd['daily_increase'].rolling(window = 10).mean() # Get rolling y vals\n",
    "  mov_y = mov_y.fillna(0)\n",
    "\n",
    "  # Calculate Cublic Spline curve to remove jagged edges and create an even smoother graph\n",
    "  x_smooth = np.linspace(x.min(), x.max(), 500) # Split x_axis up into 500 points\n",
    "  spl = CubicSpline(x, mov_y) # Generate spline function\n",
    "  y_smooth = spl(x_smooth) # Calculate new smooth y points\n",
    "  \n",
    "  # We use this to plot a slighty larger white line underneath our coloured line. \n",
    "  # This has the effect of a line edge\n",
    "  if add_border == True:\n",
    "    ax.plot(x_smooth, y_smooth,\n",
    "        color = 'white', \n",
    "        linewidth = linewidth + 2,\n",
    "        label = i)\n",
    "  \n",
    "  # Now plot the actual line\n",
    "  ax.plot(x_smooth, y_smooth,\n",
    "          color = color, \n",
    "          linewidth = linewidth,\n",
    "          label = i)\n",
    "\n",
    "  # We append the name location and name of the country to a list of lists which we will \n",
    "  # plot in the next sections\n",
    "  if annotate == True:\n",
    "    annotate_list.append([x_smooth[-1], y_smooth[-1], i])"
   ]
  },
  {
   "cell_type": "markdown",
   "metadata": {},
   "source": [
    "### Plotting"
   ]
  },
  {
   "cell_type": "code",
   "execution_count": 19,
   "metadata": {},
   "outputs": [
    {
     "ename": "NameError",
     "evalue": "name 'annotate_list' is not defined",
     "output_type": "error",
     "traceback": [
      "\u001b[0;31m---------------------------------------------------------------------------\u001b[0m",
      "\u001b[0;31mNameError\u001b[0m                                 Traceback (most recent call last)",
      "\u001b[0;32m<ipython-input-19-6813a26ad53a>\u001b[0m in \u001b[0;36m<module>\u001b[0;34m\u001b[0m\n\u001b[1;32m     16\u001b[0m \u001b[0;32mfor\u001b[0m \u001b[0mi\u001b[0m \u001b[0;32min\u001b[0m \u001b[0mcountries_to_plot\u001b[0m\u001b[0;34m[\u001b[0m\u001b[0;34m:\u001b[0m\u001b[0mno_highlighted_countries\u001b[0m\u001b[0;34m]\u001b[0m\u001b[0;34m:\u001b[0m\u001b[0;34m\u001b[0m\u001b[0;34m\u001b[0m\u001b[0m\n\u001b[1;32m     17\u001b[0m   \u001b[0mcolour\u001b[0m \u001b[0;34m=\u001b[0m \u001b[0mplt\u001b[0m\u001b[0;34m.\u001b[0m\u001b[0mcm\u001b[0m\u001b[0;34m.\u001b[0m\u001b[0mSpectral\u001b[0m\u001b[0;34m(\u001b[0m\u001b[0mcount\u001b[0m\u001b[0;34m/\u001b[0m\u001b[0mno_highlighted_countries\u001b[0m\u001b[0;34m)\u001b[0m\u001b[0;34m\u001b[0m\u001b[0;34m\u001b[0m\u001b[0m\n\u001b[0;32m---> 18\u001b[0;31m   \u001b[0mplot_country\u001b[0m\u001b[0;34m(\u001b[0m\u001b[0mi\u001b[0m\u001b[0;34m,\u001b[0m \u001b[0mcolour\u001b[0m\u001b[0;34m,\u001b[0m \u001b[0;36m3\u001b[0m\u001b[0;34m,\u001b[0m \u001b[0mannotate\u001b[0m \u001b[0;34m=\u001b[0m \u001b[0;32mTrue\u001b[0m\u001b[0;34m,\u001b[0m \u001b[0madd_border\u001b[0m \u001b[0;34m=\u001b[0m \u001b[0;32mTrue\u001b[0m\u001b[0;34m)\u001b[0m\u001b[0;34m\u001b[0m\u001b[0;34m\u001b[0m\u001b[0m\n\u001b[0m\u001b[1;32m     19\u001b[0m   \u001b[0mcount\u001b[0m \u001b[0;34m=\u001b[0m \u001b[0mcount\u001b[0m \u001b[0;34m+\u001b[0m \u001b[0;36m1\u001b[0m\u001b[0;34m\u001b[0m\u001b[0;34m\u001b[0m\u001b[0m\n\u001b[1;32m     20\u001b[0m \u001b[0;34m\u001b[0m\u001b[0m\n",
      "\u001b[0;32m<ipython-input-18-81dbb3d39fc8>\u001b[0m in \u001b[0;36mplot_country\u001b[0;34m(c, color, linewidth, annotate, add_border)\u001b[0m\n\u001b[1;32m     32\u001b[0m   \u001b[0;31m# plot in the next sections\u001b[0m\u001b[0;34m\u001b[0m\u001b[0;34m\u001b[0m\u001b[0;34m\u001b[0m\u001b[0m\n\u001b[1;32m     33\u001b[0m   \u001b[0;32mif\u001b[0m \u001b[0mannotate\u001b[0m \u001b[0;34m==\u001b[0m \u001b[0;32mTrue\u001b[0m\u001b[0;34m:\u001b[0m\u001b[0;34m\u001b[0m\u001b[0;34m\u001b[0m\u001b[0m\n\u001b[0;32m---> 34\u001b[0;31m     \u001b[0mannotate_list\u001b[0m\u001b[0;34m.\u001b[0m\u001b[0mappend\u001b[0m\u001b[0;34m(\u001b[0m\u001b[0;34m[\u001b[0m\u001b[0mx_smooth\u001b[0m\u001b[0;34m[\u001b[0m\u001b[0;34m-\u001b[0m\u001b[0;36m1\u001b[0m\u001b[0;34m]\u001b[0m\u001b[0;34m,\u001b[0m \u001b[0my_smooth\u001b[0m\u001b[0;34m[\u001b[0m\u001b[0;34m-\u001b[0m\u001b[0;36m1\u001b[0m\u001b[0;34m]\u001b[0m\u001b[0;34m,\u001b[0m \u001b[0mi\u001b[0m\u001b[0;34m]\u001b[0m\u001b[0;34m)\u001b[0m\u001b[0;34m\u001b[0m\u001b[0;34m\u001b[0m\u001b[0m\n\u001b[0m",
      "\u001b[0;31mNameError\u001b[0m: name 'annotate_list' is not defined"
     ]
    },
    {
     "data": {
      "image/png": "[encoded data removed]",
      "text/plain": [
       "<Figure size 1440x864 with 1 Axes>"
      ]
     },
     "metadata": {
      "needs_background": "light"
     },
     "output_type": "display_data"
    }
   ],
   "source": [
    "from scipy.interpolate import CubicSpline\n",
    "from random import random\n",
    "from adjustText import adjust_text\n",
    "\n",
    "fig, ax = plt.subplots(figsize=[20,12])\n",
    "\n",
    "count = 0 # Counter required for plotting colourmaps\n",
    "\n",
    "# ===================== Plot =====================\n",
    "\n",
    "# Plot grey lines\n",
    "for i in countries_to_plot[no_highlighted_countries:]: \n",
    "  plot_country(i, 'darkgrey', 2)\n",
    "\n",
    "# Plot highlighted countries\n",
    "for i in countries_to_plot[:no_highlighted_countries]:\n",
    "  colour = plt.cm.Spectral(count/no_highlighted_countries)\n",
    "  plot_country(i, colour, 3, annotate = True, add_border = True)\n",
    "  count = count + 1\n",
    "\n",
    "#==================== AXIS AND STLYE =====================\n",
    "  \n",
    "ax.yaxis.grid(linestyle = '--')\n",
    "\n",
    "ax.tick_params(axis='both', which='major', labelsize=15, pad=2)\n",
    "ax.tick_params(axis='x', which='major', labelsize=15, pad=2)\n",
    "\n",
    "ax.set_ylabel('Deaths Per Day',\n",
    "              fontsize = 15,\n",
    "              color = 'white')\n",
    "\n",
    "ax.set_xlabel('Days Since First Death',\n",
    "              fontsize = 15, \n",
    "              color = 'white',\n",
    "              labelpad = 15)\n",
    "\n",
    "plt.yticks(color = 'white')\n",
    "plt.xticks(color = 'white', rotation = 0)\n",
    "ax.set_frame_on(False)\n",
    "\n",
    "# ===================== Annotate with AdjustText =====================\n",
    "\n",
    "texts = []\n",
    "for i in annotate_list:\n",
    "  texts.append(ax.text(i[0], i[1], i[2],\n",
    "             color = 'white', size = 17, fontfamily = font, fontstyle = 'oblique'))\n",
    "\n",
    "#adjust_text(texts, ha = 'left', text_from_points = True, expand_text = (0,0.1))"
   ]
  }
 ],
 "metadata": {
  "kernelspec": {
   "display_name": "Python [conda env:tboc] *",
   "language": "python",
   "name": "conda-env-tboc-py"
  },
  "language_info": {
   "codemirror_mode": {
    "name": "ipython",
    "version": 3
   },
   "file_extension": ".py",
   "mimetype": "text/x-python",
   "name": "python",
   "nbconvert_exporter": "python",
   "pygments_lexer": "ipython3",
   "version": "3.7.3"
  }
 },
 "nbformat": 4,
 "nbformat_minor": 4
}
